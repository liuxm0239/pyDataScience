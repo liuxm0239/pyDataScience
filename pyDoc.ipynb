{
 "cells": [
  {
   "cell_type": "code",
   "execution_count": 1,
   "metadata": {},
   "outputs": [
    {
     "name": "stdout",
     "output_type": "stream",
     "text": [
      "Looking in indexes: https://pypi.tuna.tsinghua.edu.cn/simple\n",
      "Collecting python-docx\n",
      "  Downloading https://pypi.tuna.tsinghua.edu.cn/packages/5f/d8/6948f7ac00edf74bfa52b3c5e3073df20284bec1db466d13e668fe991707/python_docx-1.1.0-py3-none-any.whl (239 kB)\n",
      "\u001b[K     |████████████████████████████████| 239 kB 562 kB/s eta 0:00:01\n",
      "\u001b[?25hCollecting lxml>=3.1.0\n",
      "  Downloading https://pypi.tuna.tsinghua.edu.cn/packages/97/a8/92d88fe22b8caccdb0c1ff099e5ef90052b058b42671e69986e2262faa1f/lxml-5.1.0-cp38-cp38-macosx_10_9_x86_64.whl (4.8 MB)\n",
      "\u001b[K     |████████████████████████████████| 4.8 MB 9.7 MB/s eta 0:00:01\n",
      "\u001b[?25hRequirement already satisfied: typing-extensions in /System/Volumes/Data/work_place/software/miniconda/envs/d2l/lib/python3.8/site-packages (from python-docx) (4.0.0)\n",
      "Installing collected packages: lxml, python-docx\n",
      "Successfully installed lxml-5.1.0 python-docx-1.1.0\n"
     ]
    }
   ],
   "source": [
    "!pip install python-docx"
   ]
  },
  {
   "cell_type": "code",
   "execution_count": 2,
   "metadata": {},
   "outputs": [],
   "source": [
    "import pandas as pd, numpy as np\n",
    "import matplotlib.pyplot as plt\n",
    "# docx\n",
    "from docx import Document\n",
    "from docx.shared import Inches"
   ]
  },
  {
   "cell_type": "code",
   "execution_count": 3,
   "metadata": {},
   "outputs": [],
   "source": [
    "import warnings\n",
    "warnings.filterwarnings(\"ignore\")"
   ]
  },
  {
   "cell_type": "code",
   "execution_count": 14,
   "metadata": {},
   "outputs": [],
   "source": [
    "# the document is assigned to 'document'\n",
    "document = Document()\n",
    "\n",
    "# add headings\n",
    "document.add_heading('Heading 0', level=0)\n",
    "document.add_heading('Heading 1', level=1)\n",
    "document.add_heading('Heading 2', level=2)\n",
    "# f-strings can be used as well\n",
    "heading_size = 3\n",
    "document.add_heading(f'Heading {heading_size}', heading_size)  \n",
    "\n",
    "# doing an empty '.add_paragraph' will act as a newline\n",
    "p = document.add_paragraph()\n",
    "\n",
    "# otherwise, texts can be entered in the brackets. note that each paragraph is assigned to a different name. \n",
    "# it helps in differentiating and customising them\n",
    "para_0 = document.add_paragraph('This is how we input paragraphs in the document. This paragraph has been declared as variable para_0.')\n",
    "\n",
    "# adding text and setting some of the text to bold and italics by using '.add_run'\n",
    "para_1 = document.add_paragraph('This is another paragraph para_1. By using the variables that they are assigned to, we can manipulate the texts such as ')\n",
    "para_1.add_run('setting text to bold, ').bold = True\n",
    "para_1.add_run('or if you prefer italics. ').italic = True\n",
    "para_1.add_run('Notice that they all form part of the same paragraph and are on the same line.')\n",
    "\n",
    "# adding an unordered list\n",
    "document.add_paragraph('First item in unordered list.', style='List Bullet')\n",
    "document.add_paragraph('Second item in unordered list.', style='List Bullet')\n",
    "\n",
    "# adding an ordered list\n",
    "document.add_paragraph('First item in ordered list.', style='List Number')\n",
    "document.add_paragraph('Second item in ordered list.', style='List Number')\n",
    "\n",
    "# adding a picture and customising the size/width\n",
    "# note: the picture must be saved locally\n",
    "document.add_picture('maths.png', width=Inches(2.5))\n",
    "\n",
    "# adding a table using a tuple of tuples\n",
    "# can be a dataframe as well instead of a tuple - needs to be iterable\n",
    "# first describe the data\n",
    "records = (\n",
    "            ('FR0101', 'French', 73),\n",
    "            ('MA1019', 'Mathematics\\ntest', 97),\n",
    "            ('EN0631', 'English', 84)\n",
    "    )\n",
    "\n",
    "# create a table with 3 columns\n",
    "# only 1 row has been created for the header\n",
    "# add we iterate through the data, we will add rows accordingly\n",
    "table = document.add_table(rows=1, cols=3)\n",
    "# naming the header cells\n",
    "header_cells = table.rows[0].cells\n",
    "header_cells[0].text = 'Subject Code'\n",
    "header_cells[1].text = 'Subject'\n",
    "header_cells[2].text = 'Grades'\n",
    "# iterate through the data\n",
    "# add a new row\n",
    "# assign data points to the cells as required\n",
    "for subject_code, subject, grade in records:\n",
    "    row_cells = table.add_row().cells\n",
    "    row_cells[0].text = subject_code\n",
    "    row_cells[1].text = subject\n",
    "    row_cells[2].text = str(grade)\n",
    "\n",
    "# save as a .docx document\n",
    "document.save('testing_basic_document.docx')"
   ]
  },
  {
   "cell_type": "code",
   "execution_count": null,
   "metadata": {},
   "outputs": [],
   "source": []
  },
  {
   "cell_type": "code",
   "execution_count": 13,
   "metadata": {},
   "outputs": [],
   "source": [
    "from docx import Document\n",
    "\n",
    "document = Document()\n",
    "\n",
    "table = document.add_table(rows=2, cols=2)\n",
    "\n",
    "cell = table.cell(0, 0)\n",
    "\n",
    "cell.text = 'This is the first line.\\nThis is the second line.'\n",
    "\n",
    "document.save('table.docx')"
   ]
  },
  {
   "cell_type": "code",
   "execution_count": 17,
   "metadata": {},
   "outputs": [],
   "source": [
    "from docx import Document\n",
    "\n",
    "list1 = ['this is the first line.\\n', 'this is the second line.\\n', 'this is the third line.\\n']\n",
    "\n",
    "doc1 = Document()\n",
    "table1 = doc1.add_table(rows=3, cols=2, style = 'Table Grid')\n",
    "\n",
    "# --- list of str is joined into single space-separated str ---\n",
    "table1.cell(2, 1).text = \" \".join(list1)\n",
    "\n",
    "doc1.save('doc1.docx')"
   ]
  },
  {
   "cell_type": "code",
   "execution_count": null,
   "metadata": {},
   "outputs": [],
   "source": []
  },
  {
   "cell_type": "code",
   "execution_count": 21,
   "metadata": {},
   "outputs": [],
   "source": [
    "from docx import Document\n",
    "\n",
    "from docx.enum.text import WD_BREAK\n",
    "\n",
    "document = Document()\n",
    "\n",
    "table = document.add_table(rows=1, cols=1)\n",
    "\n",
    "cell = table.cell(0, 0)\n",
    "\n",
    "run = cell.paragraphs[0].add_run('This is the first line.')\n",
    "\n",
    "run.add_break(WD_BREAK.LINE)\n",
    "\n",
    "run.add_text('This is the second line.')\n",
    "\n",
    "document.save('table_with_line_break.docx')\n",
    "document = Document()\n",
    "\n",
    "table = document.add_table(rows=1, cols=1)\n",
    "\n",
    "cell = table.cell(0, 0)\n",
    "\n",
    "run = cell.paragraphs[0].add_run('This is the first line.')\n",
    "\n",
    "run.add_break(WD_BREAK.LINE)\n",
    "\n",
    "run.add_text('This is the second line.')\n",
    "\n",
    "document.save('table_with_line_break.docx')"
   ]
  },
  {
   "cell_type": "code",
   "execution_count": null,
   "metadata": {},
   "outputs": [],
   "source": []
  },
  {
   "cell_type": "code",
   "execution_count": null,
   "metadata": {},
   "outputs": [],
   "source": []
  },
  {
   "cell_type": "code",
   "execution_count": null,
   "metadata": {},
   "outputs": [],
   "source": []
  },
  {
   "cell_type": "code",
   "execution_count": null,
   "metadata": {},
   "outputs": [],
   "source": []
  },
  {
   "cell_type": "code",
   "execution_count": null,
   "metadata": {},
   "outputs": [],
   "source": []
  },
  {
   "cell_type": "code",
   "execution_count": null,
   "metadata": {},
   "outputs": [],
   "source": []
  },
  {
   "cell_type": "code",
   "execution_count": null,
   "metadata": {},
   "outputs": [],
   "source": []
  },
  {
   "cell_type": "code",
   "execution_count": null,
   "metadata": {},
   "outputs": [],
   "source": []
  },
  {
   "cell_type": "code",
   "execution_count": null,
   "metadata": {},
   "outputs": [],
   "source": []
  },
  {
   "cell_type": "code",
   "execution_count": null,
   "metadata": {},
   "outputs": [],
   "source": []
  },
  {
   "cell_type": "code",
   "execution_count": null,
   "metadata": {},
   "outputs": [],
   "source": []
  },
  {
   "cell_type": "code",
   "execution_count": null,
   "metadata": {},
   "outputs": [],
   "source": []
  },
  {
   "cell_type": "code",
   "execution_count": null,
   "metadata": {},
   "outputs": [],
   "source": []
  }
 ],
 "metadata": {
  "kernelspec": {
   "display_name": "d2l",
   "language": "python",
   "name": "python3"
  },
  "language_info": {
   "codemirror_mode": {
    "name": "ipython",
    "version": 3
   },
   "file_extension": ".py",
   "mimetype": "text/x-python",
   "name": "python",
   "nbconvert_exporter": "python",
   "pygments_lexer": "ipython3",
   "version": "3.8.12"
  }
 },
 "nbformat": 4,
 "nbformat_minor": 2
}
